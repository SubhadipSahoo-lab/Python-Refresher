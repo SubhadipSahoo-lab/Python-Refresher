{
  "nbformat": 4,
  "nbformat_minor": 0,
  "metadata": {
    "colab": {
      "provenance": []
    },
    "kernelspec": {
      "name": "python3",
      "display_name": "Python 3"
    },
    "language_info": {
      "name": "python"
    }
  },
  "cells": [
    {
      "cell_type": "markdown",
      "source": [
        "**Object-Oriented Programming (Advanced)**\n",
        "\n",
        "\n",
        "1. Class\n",
        "2. Object\n",
        "3. Attribute\n",
        "4. Method\n",
        "5. Encapsulation\n",
        "6. Inheritence\n",
        "7. Polymorphism"
      ],
      "metadata": {
        "id": "mfA3YrdJOyta"
      }
    },
    {
      "cell_type": "code",
      "source": [
        "# Define a class\n",
        "class Car:\n",
        "    # Constructor\n",
        "    def __init__(self, name, color):\n",
        "        self.name = name\n",
        "        self.color = color\n",
        "\n",
        "    #Method\n",
        "    def start_engine(self):\n",
        "        print(f\"The {self.name} in {self.color} color is starting the engine.\")\n",
        "\n",
        "if __name__ == \"__main__\":\n",
        "    car1 = Car(\"Toyota\", \"Blue\") # Object is created car1\n",
        "    car2 = Car(\"Honda\", \"Red\")\n",
        "\n",
        "    car1.start_engine()\n",
        "    car2.start_engine()\n",
        "\n",
        "    print(car1.name) # Attribute\n",
        "    print(car2.color)"
      ],
      "metadata": {
        "colab": {
          "base_uri": "https://localhost:8080/"
        },
        "id": "g4KJeCxJPS71",
        "outputId": "ace29fd3-bd4c-4818-e773-66eb92c8cc88"
      },
      "execution_count": null,
      "outputs": [
        {
          "output_type": "stream",
          "name": "stdout",
          "text": [
            "The Toyota in Blue color is starting the engine.\n",
            "The Honda in Red color is starting the engine.\n",
            "Toyota\n",
            "Red\n"
          ]
        }
      ]
    },
    {
      "cell_type": "code",
      "source": [
        "# Encapsulation\n",
        "# Use __ for private variable and _ for protected\n",
        "class BankAccount:\n",
        "    def __init__(self, account_number, balance):\n",
        "        self.__account_number = account_number\n",
        "        self.__balance = balance\n",
        "\n",
        "    def deposit(self, amount):\n",
        "        self.__balance += amount\n",
        "\n",
        "    def withdraw(self, amount):\n",
        "        self.__balance -= amount\n",
        "\n",
        "    def get_balance(self):\n",
        "        print(f'The current balance is {self.__balance}')\n",
        "\n",
        "if __name__ == \"__main__\":\n",
        "    account = BankAccount(\"123456789\", 1000)\n",
        "    account.deposit(500)\n",
        "    account.withdraw(200)\n",
        "    #print(account.__balance)   # It won't work because balance is private variable\n",
        "    account.get_balance()"
      ],
      "metadata": {
        "colab": {
          "base_uri": "https://localhost:8080/"
        },
        "id": "VpgTV57tZreY",
        "outputId": "c33ac154-48e2-41f0-f727-4cc647923b88"
      },
      "execution_count": null,
      "outputs": [
        {
          "output_type": "stream",
          "name": "stdout",
          "text": [
            "The current balance is 1300\n"
          ]
        }
      ]
    },
    {
      "cell_type": "code",
      "source": [
        "# Inheritance\n",
        "class Vehicle:\n",
        "    def __init__(self, brand):\n",
        "        self.brand = brand\n",
        "\n",
        "    def drive(self):\n",
        "        print(f\"The {self.brand} is being driven.\")\n",
        "\n",
        "class Car(Vehicle):\n",
        "    def __init__(self, brand, model):\n",
        "        super().__init__(brand)\n",
        "        self.model = model\n",
        "\n",
        "    def start_engine(self):\n",
        "        print(f\"The {self.brand} {self.model} is starting the engine.\")\n",
        "\n",
        "if __name__ == \"__main__\":\n",
        "    car = Car(\"Toyota\", \"Camry\")\n",
        "    car.drive()\n",
        "    car.start_engine()"
      ],
      "metadata": {
        "colab": {
          "base_uri": "https://localhost:8080/"
        },
        "id": "X1eCqI6bKqUb",
        "outputId": "2612445b-698b-4de3-c0ea-38ee17c5cb45"
      },
      "execution_count": null,
      "outputs": [
        {
          "output_type": "stream",
          "name": "stdout",
          "text": [
            "The Toyota is being driven.\n",
            "The Toyota Camry is starting the engine.\n"
          ]
        }
      ]
    },
    {
      "cell_type": "code",
      "source": [
        "# Class vs Static Methods\n",
        "# Class method: When you need to modify / update class level data\n",
        "# Static method: You don't need to access class or instance data\n",
        "\n",
        "class myclass:\n",
        "    counter = 0\n",
        "\n",
        "    @classmethod\n",
        "    def increment(cls):\n",
        "        cls.counter += 1\n",
        "\n",
        "if __name__ == \"__main__\":\n",
        "    myclass.increment()\n",
        "    print(myclass.counter)\n",
        "\n",
        "\n",
        "class my_class:\n",
        "    @staticmethod\n",
        "    def add(x, y):\n",
        "        return x + y\n",
        "\n",
        "print(my_class.add(2, 3))"
      ],
      "metadata": {
        "colab": {
          "base_uri": "https://localhost:8080/"
        },
        "id": "n7S_USmIfJXr",
        "outputId": "c53f3402-23cd-4e4f-e9ee-8d2e95484766"
      },
      "execution_count": null,
      "outputs": [
        {
          "output_type": "stream",
          "name": "stdout",
          "text": [
            "1\n",
            "5\n"
          ]
        }
      ]
    },
    {
      "cell_type": "code",
      "source": [],
      "metadata": {
        "id": "4R3YoddFpM0f"
      },
      "execution_count": null,
      "outputs": []
    },
    {
      "cell_type": "markdown",
      "source": [
        "**Functional Programming**\n",
        "\n",
        "\n",
        "1. Decorators\n",
        "2. Generators and Iterators\n",
        "3. Lambda and Higher-Order Functions\n",
        "\n"
      ],
      "metadata": {
        "id": "HqKj72a4qMlF"
      }
    },
    {
      "cell_type": "code",
      "source": [
        "# Decorators are functions that modify the behavior of other functions\n",
        "# Use cases - Logging, Authorization, Timing functions, Caching\n",
        "\n",
        "def my_decorator(func):\n",
        "    def wrapper():\n",
        "        print(\"Before the function is called.\")\n",
        "        func()\n",
        "        print(\"After the function is called.\")\n",
        "    return wrapper\n",
        "\n",
        "@my_decorator\n",
        "def say_hello():\n",
        "    print(\"Hello!\")\n",
        "\n",
        "say_hello()\n",
        "\n"
      ],
      "metadata": {
        "colab": {
          "base_uri": "https://localhost:8080/"
        },
        "id": "AoI-A_YXqkfo",
        "outputId": "e044adeb-ab67-4063-9948-a2c3d1dc9d32"
      },
      "execution_count": null,
      "outputs": [
        {
          "output_type": "stream",
          "name": "stdout",
          "text": [
            "Before the function is called.\n",
            "Hello!\n",
            "After the function is called.\n"
          ]
        }
      ]
    },
    {
      "cell_type": "code",
      "source": [
        "# Generator: Function that yields values lazily (one at a time)\n",
        "# Benefits - Lazy Evaluation, Infinite Sequences etc\n",
        "def count_max_to(max_value):\n",
        "    count = 1\n",
        "    while count <= max_value:\n",
        "        yield count\n",
        "        count += 1\n",
        "\n",
        "counter = count_max_to(5)\n",
        "print(next(counter))"
      ],
      "metadata": {
        "colab": {
          "base_uri": "https://localhost:8080/"
        },
        "id": "zhx5KmdRU16p",
        "outputId": "817ff8eb-dbad-496f-c3bb-47394ba30ba1"
      },
      "execution_count": null,
      "outputs": [
        {
          "output_type": "stream",
          "name": "stdout",
          "text": [
            "1\n"
          ]
        }
      ]
    },
    {
      "cell_type": "code",
      "source": [
        "# Iterator: Object with __iter__() and __next__()\n",
        "\n",
        "class MyRange:\n",
        "    def __init__(self, start, end):\n",
        "        self.start = start\n",
        "        self.end = end\n",
        "\n",
        "    def __iter__(self):\n",
        "        return self\n",
        "\n",
        "    def __next__(self):\n",
        "        if self.start >= self.end:\n",
        "            raise StopIteration\n",
        "\n",
        "        val = self.start\n",
        "        self.start += 1\n",
        "        return val\n",
        "\n",
        "for i in MyRange(1,4):\n",
        "    print(i)"
      ],
      "metadata": {
        "colab": {
          "base_uri": "https://localhost:8080/"
        },
        "id": "37SJfcIrW1ae",
        "outputId": "31d0e55d-9bbb-4326-dda9-45a7a4efdb6b"
      },
      "execution_count": null,
      "outputs": [
        {
          "output_type": "stream",
          "name": "stdout",
          "text": [
            "1\n",
            "2\n",
            "3\n"
          ]
        }
      ]
    },
    {
      "cell_type": "code",
      "source": [],
      "metadata": {
        "id": "P35RYcLXakTh"
      },
      "execution_count": null,
      "outputs": []
    },
    {
      "cell_type": "markdown",
      "source": [
        "**Lambda Functions and Higher-Order Functions**"
      ],
      "metadata": {
        "id": "_BB1x171ck-j"
      }
    },
    {
      "cell_type": "code",
      "source": [
        "add = lambda x, y:x+y\n",
        "print(add(5,6))"
      ],
      "metadata": {
        "colab": {
          "base_uri": "https://localhost:8080/"
        },
        "id": "T4B_P9KDcpUo",
        "outputId": "d8ac6a04-ca82-41be-b23a-d91d46b6dc98"
      },
      "execution_count": null,
      "outputs": [
        {
          "output_type": "stream",
          "name": "stdout",
          "text": [
            "11\n"
          ]
        }
      ]
    },
    {
      "cell_type": "code",
      "source": [
        "# Functions that take or return other functions\n",
        "# map(function, iterable)\n",
        "nums = [1,2,3,4,5]\n",
        "final_number = map(lambda x:x*2, nums)\n",
        "print(list(final_number))"
      ],
      "metadata": {
        "colab": {
          "base_uri": "https://localhost:8080/"
        },
        "id": "qIQz_T7Lc3Ao",
        "outputId": "d617b7a0-7aab-4ef7-ba7f-10f697ac46e1"
      },
      "execution_count": null,
      "outputs": [
        {
          "output_type": "stream",
          "name": "stdout",
          "text": [
            "[2, 4, 6, 8, 10]\n"
          ]
        }
      ]
    },
    {
      "cell_type": "code",
      "source": [
        "even = filter(lambda x:x%2==0, nums)\n",
        "print(list(even))"
      ],
      "metadata": {
        "colab": {
          "base_uri": "https://localhost:8080/"
        },
        "id": "XlDO5je2eWcs",
        "outputId": "0d7ea35a-b709-4ef9-c444-c320f09b17ce"
      },
      "execution_count": null,
      "outputs": [
        {
          "output_type": "stream",
          "name": "stdout",
          "text": [
            "[2, 4]\n"
          ]
        }
      ]
    },
    {
      "cell_type": "code",
      "source": [],
      "metadata": {
        "id": "i6HWkxNGfuZD"
      },
      "execution_count": null,
      "outputs": []
    },
    {
      "cell_type": "markdown",
      "source": [
        "**1. asyncio: Asynchronous I/O-bound Programming**"
      ],
      "metadata": {
        "id": "F2zKuCDvg1y-"
      }
    },
    {
      "cell_type": "code",
      "source": [
        "import asyncio\n",
        "\n",
        "async def download_file(n):\n",
        "    print(f\"Start download {n}\")\n",
        "    await asyncio.sleep(2)\n",
        "    print(f\"Finish download {n}\")\n",
        "\n",
        "async def main():\n",
        "    await asyncio.gather(download_file(1), download_file(2), download_file(3))\n",
        "\n",
        "await main()"
      ],
      "metadata": {
        "colab": {
          "base_uri": "https://localhost:8080/"
        },
        "id": "iyWoW0s5mho8",
        "outputId": "5e74b588-916b-463b-8882-00ee9e3f99a4"
      },
      "execution_count": null,
      "outputs": [
        {
          "output_type": "stream",
          "name": "stdout",
          "text": [
            "Start download 1\n",
            "Start download 2\n",
            "Start download 3\n",
            "Finish download 1\n",
            "Finish download 2\n",
            "Finish download 3\n"
          ]
        }
      ]
    },
    {
      "cell_type": "code",
      "source": [],
      "metadata": {
        "id": "tVGP1X8TpZlH"
      },
      "execution_count": null,
      "outputs": []
    }
  ]
}